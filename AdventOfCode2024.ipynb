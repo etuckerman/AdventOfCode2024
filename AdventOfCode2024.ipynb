{
  "nbformat": 4,
  "nbformat_minor": 0,
  "metadata": {
    "colab": {
      "provenance": [],
      "authorship_tag": "ABX9TyMQOfsXXCigavpZYmA807O8",
      "include_colab_link": true
    },
    "kernelspec": {
      "name": "python3",
      "display_name": "Python 3"
    },
    "language_info": {
      "name": "python"
    }
  },
  "cells": [
    {
      "cell_type": "markdown",
      "metadata": {
        "id": "view-in-github",
        "colab_type": "text"
      },
      "source": [
        "<a href=\"https://colab.research.google.com/github/etuckerman/AdventOfCode2024/blob/main/AdventOfCode2024.ipynb\" target=\"_parent\"><img src=\"https://colab.research.google.com/assets/colab-badge.svg\" alt=\"Open In Colab\"/></a>"
      ]
    },
    {
      "cell_type": "markdown",
      "source": [
        "--- Day 1: Historian Hysteria ---\n",
        "The Chief Historian is always present for the big Christmas sleigh launch, but nobody has seen him in months! Last anyone heard, he was visiting locations that are historically significant to the North Pole; a group of Senior Historians has asked you to accompany them as they check the places they think he was most likely to visit.\n",
        "\n",
        "As each location is checked, they will mark it on their list with a star. They figure the Chief Historian must be in one of the first fifty places they'll look, so in order to save Christmas, you need to help them get fifty stars on their list before Santa takes off on December 25th.\n",
        "\n",
        "Collect stars by solving puzzles. Two puzzles will be made available on each day in the Advent calendar; the second puzzle is unlocked when you complete the first. Each puzzle grants one star. Good luck!\n",
        "\n",
        "You haven't even left yet and the group of Elvish Senior Historians has already hit a problem: their list of locations to check is currently empty. Eventually, someone decides that the best place to check first would be the Chief Historian's office.\n",
        "\n",
        "Upon pouring into the office, everyone confirms that the Chief Historian is indeed nowhere to be found. Instead, the Elves discover an assortment of notes and lists of historically significant locations! This seems to be the planning the Chief Historian was doing before he left. Perhaps these notes can be used to determine which locations to search?\n",
        "\n",
        "Throughout the Chief's office, the historically significant locations are listed not by name but by a unique number called the location ID. To make sure they don't miss anything, The Historians split into two groups, each searching the office and trying to create their own complete list of location IDs.\n",
        "\n",
        "There's just one problem: by holding the two lists up side by side (your puzzle input), it quickly becomes clear that the lists aren't very similar. Maybe you can help The Historians reconcile their lists?\n",
        "\n",
        "For example:\n",
        "\n",
        "3   4\n",
        "4   3\n",
        "2   5\n",
        "1   3\n",
        "3   9\n",
        "3   3\n",
        "Maybe the lists are only off by a small amount! To find out, pair up the numbers and measure how far apart they are. Pair up the smallest number in the left list with the smallest number in the right list, then the second-smallest left number with the second-smallest right number, and so on.\n",
        "\n",
        "Within each pair, figure out how far apart the two numbers are; you'll need to add up all of those distances. For example, if you pair up a 3 from the left list with a 7 from the right list, the distance apart is 4; if you pair up a 9 with a 3, the distance apart is 6.\n",
        "\n",
        "In the example list above, the pairs and distances would be as follows:\n",
        "\n",
        "The smallest number in the left list is 1, and the smallest number in the right list is 3. The distance between them is 2.\n",
        "The second-smallest number in the left list is 2, and the second-smallest number in the right list is another 3. The distance between them is 1.\n",
        "The third-smallest number in both lists is 3, so the distance between them is 0.\n",
        "The next numbers to pair up are 3 and 4, a distance of 1.\n",
        "The fifth-smallest numbers in each list are 3 and 5, a distance of 2.\n",
        "Finally, the largest number in the left list is 4, while the largest number in the right list is 9; these are a distance 5 apart.\n",
        "To find the total distance between the left list and the right list, add up the distances between all of the pairs you found. In the example above, this is 2 + 1 + 0 + 1 + 2 + 5, a total distance of 11!\n",
        "\n",
        "Your actual left and right lists contain many location IDs. What is the total distance between your lists?"
      ],
      "metadata": {
        "id": "SE8BCwNH8dC_"
      }
    },
    {
      "cell_type": "code",
      "source": [
        "with open('aoc1.txt', 'r') as file:\n",
        "    lines = file.readlines()\n",
        "\n",
        "left = []\n",
        "right = []\n",
        "\n",
        "\n",
        "for line in lines:\n",
        "  left.append(int(line[:5]))\n",
        "  right.append(int(line[8:13]))\n",
        "\n",
        "left = sorted(left)\n",
        "right = sorted(right)\n",
        "\n",
        "total = 0\n",
        "\n",
        "for i in range(len(left)):\n",
        "  total += abs(left[i] - right[i])\n",
        "\n",
        "print(total)"
      ],
      "metadata": {
        "colab": {
          "base_uri": "https://localhost:8080/"
        },
        "id": "DFwLCJg98xAS",
        "outputId": "a86db0b7-6847-4a16-d6f5-0f70efd7260c"
      },
      "execution_count": 51,
      "outputs": [
        {
          "output_type": "stream",
          "name": "stdout",
          "text": [
            "2769675\n"
          ]
        }
      ]
    },
    {
      "cell_type": "markdown",
      "source": [
        "That's the right answer! You are one gold star closer to finding the Chief Historian. [Continue to Part Two]"
      ],
      "metadata": {
        "id": "AoWoRh-zAsgR"
      }
    },
    {
      "cell_type": "markdown",
      "source": [
        "--- Part Two ---\n",
        "Your analysis only confirmed what everyone feared: the two lists of location IDs are indeed very different.\n",
        "\n",
        "Or are they?\n",
        "\n",
        "The Historians can't agree on which group made the mistakes or how to read most of the Chief's handwriting, but in the commotion you notice an interesting detail: a lot of location IDs appear in both lists! Maybe the other numbers aren't location IDs at all but rather misinterpreted handwriting.\n",
        "\n",
        "This time, you'll need to figure out exactly how often each number from the left list appears in the right list. Calculate a total similarity score by adding up each number in the left list after multiplying it by the number of times that number appears in the right list.\n",
        "\n",
        "Here are the same example lists again:\n",
        "\n",
        "3   4\n",
        "4   3\n",
        "2   5\n",
        "1   3\n",
        "3   9\n",
        "3   3\n",
        "For these example lists, here is the process of finding the similarity score:\n",
        "\n",
        "The first number in the left list is 3. It appears in the right list three times, so the similarity score increases by 3 * 3 = 9.\n",
        "The second number in the left list is 4. It appears in the right list once, so the similarity score increases by 4 * 1 = 4.\n",
        "The third number in the left list is 2. It does not appear in the right list, so the similarity score does not increase (2 * 0 = 0).\n",
        "The fourth number, 1, also does not appear in the right list.\n",
        "The fifth number, 3, appears in the right list three times; the similarity score increases by 9.\n",
        "The last number, 3, appears in the right list three times; the similarity score again increases by 9.\n",
        "So, for these example lists, the similarity score at the end of this process is 31 (9 + 4 + 0 + 0 + 9 + 9).\n",
        "\n",
        "Once again consider your left and right lists. What is their similarity score?"
      ],
      "metadata": {
        "id": "0Jy5c3OgJlmY"
      }
    },
    {
      "cell_type": "code",
      "source": [
        "from collections import Counter\n",
        "rcount = Counter(right)\n",
        "\n",
        "res = 0\n",
        "for num in left:\n",
        "  res += num * rcount[num]\n",
        "\n",
        "print(res)"
      ],
      "metadata": {
        "colab": {
          "base_uri": "https://localhost:8080/"
        },
        "id": "_ZZvCg7cKIyt",
        "outputId": "739a96ad-6a46-486f-e7dc-17f776be6fac"
      },
      "execution_count": 59,
      "outputs": [
        {
          "output_type": "stream",
          "name": "stdout",
          "text": [
            "24643097\n"
          ]
        }
      ]
    },
    {
      "cell_type": "markdown",
      "source": [
        "That's the right answer! You are one gold star closer to finding the Chief Historian.\n",
        "\n",
        "You have completed Day 1! You can [Share] this victory or [Return to Your Advent Calendar].\n"
      ],
      "metadata": {
        "id": "ZuWLNkk0Kd_M"
      }
    },
    {
      "cell_type": "markdown",
      "source": [
        "--- Day 2: Red-Nosed Reports ---\n",
        "Fortunately, the first location The Historians want to search isn't a long walk from the Chief Historian's office.\n",
        "\n",
        "While the Red-Nosed Reindeer nuclear fusion/fission plant appears to contain no sign of the Chief Historian, the engineers there run up to you as soon as they see you. Apparently, they still talk about the time Rudolph was saved through molecular synthesis from a single electron.\n",
        "\n",
        "They're quick to add that - since you're already here - they'd really appreciate your help analyzing some unusual data from the Red-Nosed reactor. You turn to check if The Historians are waiting for you, but they seem to have already divided into groups that are currently searching every corner of the facility. You offer to help with the unusual data.\n",
        "\n",
        "The unusual data (your puzzle input) consists of many reports, one report per line. Each report is a list of numbers called levels that are separated by spaces. For example:\n",
        "\n",
        "7 6 4 2 1\n",
        "1 2 7 8 9\n",
        "9 7 6 2 1\n",
        "1 3 2 4 5\n",
        "8 6 4 4 1\n",
        "1 3 6 7 9\n",
        "This example data contains six reports each containing five levels.\n",
        "\n",
        "The engineers are trying to figure out which reports are safe. The Red-Nosed reactor safety systems can only tolerate levels that are either gradually increasing or gradually decreasing. So, a report only counts as safe if both of the following are true:\n",
        "\n",
        "The levels are either all increasing or all decreasing.\n",
        "Any two adjacent levels differ by at least one and at most three.\n",
        "In the example above, the reports can be found safe or unsafe by checking those rules:\n",
        "\n",
        "7 6 4 2 1: Safe because the levels are all decreasing by 1 or 2.\n",
        "1 2 7 8 9: Unsafe because 2 7 is an increase of 5.\n",
        "9 7 6 2 1: Unsafe because 6 2 is a decrease of 4.\n",
        "1 3 2 4 5: Unsafe because 1 3 is increasing but 3 2 is decreasing.\n",
        "8 6 4 4 1: Unsafe because 4 4 is neither an increase or a decrease.\n",
        "1 3 6 7 9: Safe because the levels are all increasing by 1, 2, or 3.\n",
        "So, in this example, 2 reports are safe.\n",
        "\n",
        "Analyze the unusual data from the engineers. How many reports are safe?"
      ],
      "metadata": {
        "id": "DdgNNBiCLBtl"
      }
    },
    {
      "cell_type": "code",
      "source": [
        "with open('aoc2.txt', 'r') as file:\n",
        "  lines = [[int(x) for x in line.split()] for line in file]\n",
        "true = 0\n",
        "false = 0\n",
        "for line in lines:\n",
        "  if line == sorted(line) or line == sorted(line, reverse=True):\n",
        "    if all(0 < abs(line[i] - line[i-1]) <= 3 for i in range(1, len(line))):\n",
        "      safe = True\n",
        "    else:\n",
        "      safe = False\n",
        "  else:\n",
        "      safe = False\n",
        "\n",
        "  if safe:\n",
        "    true += 1\n",
        "  else:\n",
        "    false += 1\n",
        "\n",
        "print(true)"
      ],
      "metadata": {
        "colab": {
          "base_uri": "https://localhost:8080/"
        },
        "id": "Sx1Y0Jz1Lazn",
        "outputId": "148017cf-1801-4862-8c71-1e6c2d281e9a"
      },
      "execution_count": 102,
      "outputs": [
        {
          "output_type": "stream",
          "name": "stdout",
          "text": [
            "230\n"
          ]
        }
      ]
    },
    {
      "cell_type": "markdown",
      "source": [
        "That's the right answer! You are one gold star closer to finding the Chief Historian. [Continue to Part Two]"
      ],
      "metadata": {
        "id": "VFtvVzWhU11-"
      }
    },
    {
      "cell_type": "code",
      "source": [],
      "metadata": {
        "id": "iLoztY_cwBUt"
      },
      "execution_count": null,
      "outputs": []
    }
  ]
}